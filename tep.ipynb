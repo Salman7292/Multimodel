{
    "cells": [
        {
            "cell_type": "markdown",
            "metadata": {},
            "source": [
                "# Chat with PDF using Gemini"
            ]
        },
        {
            "cell_type": "markdown",
            "metadata": {},
            "source": [
                "## 1. Install Required Packages"
            ]
        },
        {
            "cell_type": "code",
            "execution_count": null,
            "metadata": {},
            "outputs": [],
            "source": [
                "!pip install -q streamlit PyPDF2 langchain google-generativeai faiss-cpu python-dotenv"
            ]
        },
        {
            "cell_type": "markdown",
            "metadata": {},
            "source": [
                "## 2. Import Libraries"
            ]
        },
        {
            "cell_type": "code",
            "execution_count": null,
            "metadata": {},
            "outputs": [],
            "source": [
                "import os\n",
                "from PyPDF2 import PdfReader\n",
                "from langchain.text_splitter import RecursiveCharacterTextSplitter\n",
                "from langchain_google_genai import GoogleGenerativeAIEmbeddings, ChatGoogleGenerativeAI\n",
                "import google.generativeai as genai\n",
                "from langchain.vectorstores import FAISS\n",
                "from langchain.chains.question_answering import load_qa_chain\n",
                "from langchain.prompts import PromptTemplate\n",
                "from dotenv import load_dotenv\n",
                "from io import BytesIO\n",
                "import requests\n",
                "from IPython.display import display, Markdown"
            ]
        },
        {
            "cell_type": "markdown",
            "metadata": {},
            "source": [
                "## 3. Load Environment Variables"
            ]
        },
        {
            "cell_type": "code",
            "execution_count": null,
            "metadata": {},
            "outputs": [],
            "source": [
                "load_dotenv()\n",
                "GOOGLE_API_KEY = os.getenv(\"GOOGLE_API_KEY\")\n",
                "if not GOOGLE_API_KEY:\n",
                "    raise ValueError(\"GOOGLE_API_KEY not found in environment variables\")\n",
                "genai.configure(api_key=GOOGLE_API_KEY)"
            ]
        },
        {
            "cell_type": "markdown",
            "metadata": {},
            "source": [
                "## 4. PDF Processing Functions"
            ]
        },
        {
            "cell_type": "code",
            "execution_count": null,
            "metadata": {},
            "outputs": [],
            "source": [
                "def get_pdf_text(pdf_docs):\n",
                "    \"\"\"Extract text from multiple PDF files.\"\"\"\n",
                "    text = \"\"\n",
                "    for pdf in pdf_docs:\n",
                "        pdf_reader = PdfReader(pdf)\n",
                "        for page in pdf_reader.pages:\n",
                "            text += page.extract_text()\n",
                "    return text\n",
                "\n",
                "def get_text_chunks(text):\n",
                "    \"\"\"Split text into manageable chunks for processing.\"\"\"\n",
                "    text_splitter = RecursiveCharacterTextSplitter(\n",
                "        chunk_size=10000, \n",
                "        chunk_overlap=1000\n",
                "    )\n",
                "    chunks = text_splitter.split_text(text)\n",
                "    return chunks\n",
                "\n",
                "def get_vector_store(text_chunks):\n",
                "    \"\"\"Create and save a vector store from text chunks.\"\"\"\n",
                "    embeddings = GoogleGenerativeAIEmbeddings(model=\"models/embedding-001\")\n",
                "    vector_store = FAISS.from_texts(text_chunks, embedding=embeddings)\n",
                "    vector_store.save_local(\"faiss_index\")\n",
                "    return vector_store"
            ]
        },
        {
            "cell_type": "markdown",
            "metadata": {},
            "source": [
                "## 5. Question Answering Setup"
            ]
        },
        {
            "cell_type": "code",
            "execution_count": null,
            "metadata": {},
            "outputs": [],
            "source": [
                "def get_conversational_chain():\n",
                "    \"\"\"Create the question answering chain with prompt template.\"\"\"\n",
                "    prompt_template = \"\"\"\n",
                "    Answer the question as detailed as possible from the provided context, make sure to provide all the details, if the answer is not in\n",
                "    provided context just say, \"answer is not available in the context\", don't provide the wrong answer\\n\\n\n",
                "    Context:\\n {context}?\\n\n",
                "    Question: \\n{question}\\n\n",
                "\n",
                "    Answer:\n",
                "    \"\"\"\n",
                "\n",
                "    model = ChatGoogleGenerativeAI(\n",
                "        model=\"gemini-pro\",\n",
                "        temperature=0.3\n",
                "    )\n",
                "\n",
                "    prompt = PromptTemplate(\n",
                "        template=prompt_template, \n",
                "        input_variables=[\"context\", \"question\"]\n",
                "    )\n",
                "    chain = load_qa_chain(model, chain_type=\"stuff\", prompt=prompt)\n",
                "    return chain\n",
                "\n",
                "def user_input(user_question):\n",
                "    \"\"\"Process user question and return answer.\"\"\"\n",
                "    embeddings = GoogleGenerativeAIEmbeddings(model=\"models/embedding-001\")\n",
                "    \n",
                "    try:\n",
                "        new_db = FAISS.load_local(\"faiss_index\", embeddings)\n",
                "        docs = new_db.similarity_search(user_question)\n",
                "        \n",
                "        chain = get_conversational_chain()\n",
                "        response = chain(\n",
                "            {\"input_documents\": docs, \"question\": user_question},\n",
                "            return_only_outputs=True\n",
                "        )\n",
                "        \n",
                "        return response[\"output_text\"]\n",
                "    except Exception as e:\n",
                "        return f\"Error processing your question: {str(e)}\""
            ]
        },
        {
            "cell_type": "markdown",
            "metadata": {},
            "source": [
                "## 6. Process Sample PDFs"
            ]
        },
        {
            "cell_type": "code",
            "execution_count": null,
            "metadata": {},
            "outputs": [],
            "source": [
                "# Download sample PDFs\n",
                "def download_pdf(url):\n",
                "    response = requests.get(url)\n",
                "    return BytesIO(response.content)\n",
                "\n",
                "# Sample PDF URLs\n",
                "sample_pdf_urls = [\n",
                "    \"https://arxiv.org/pdf/1706.03762.pdf\",  # Attention is All You Need paper\n",
                "    \"https://arxiv.org/pdf/1810.04805.pdf\"   # BERT paper\n",
                "]\n",
                "\n",
                "# Download and process sample PDFs\n",
                "pdf_docs = [download_pdf(url) for url in sample_pdf_urls]\n",
                "print(\"Processing PDFs...\")\n",
                "raw_text = get_pdf_text(pdf_docs)\n",
                "text_chunks = get_text_chunks(raw_text)\n",
                "vector_store = get_vector_store(text_chunks)\n",
                "print(\"PDF processing complete! Vector store created.\")"
            ]
        },
        {
            "cell_type": "markdown",
            "metadata": {},
            "source": [
                "## 7. Interactive Question Answering"
            ]
        },
        {
            "cell_type": "code",
            "execution_count": null,
            "metadata": {},
            "outputs": [],
            "source": [
                "from ipywidgets import widgets\n",
                "\n",
                "# Create widgets for interactive demo\n",
                "question_input = widgets.Textarea(\n",
                "    value='',\n",
                "    placeholder='Ask a question about the PDF content...',\n",
                "    description='Question:',\n",
                "    layout={'width': '80%'}\n",
                ")\n",
                "\n",
                "submit_button = widgets.Button(description=\"Submit\")\n",
                "output = widgets.Output()\n",
                "\n",
                "def on_submit_clicked(b):\n",
                "    with output:\n",
                "        output.clear_output()\n",
                "        if question_input.value.strip():\n",
                "            answer = user_input(question_input.value)\n",
                "            display(Markdown(f\"**Question:** {question_input.value}\"))\n",
                "            display(Markdown(f\"**Answer:** {answer}\"))\n",
                "        else:\n",
                "            print(\"Please enter a question.\")\n",
                "\n",
                "submit_button.on_click(on_submit_clicked)\n",
                "\n",
                "display(question_input, submit_button, output)"
            ]
        },
        {
            "cell_type": "markdown",
            "metadata": {},
            "source": [
                "## 8. Save/Load VectorStore (Optional)"
            ]
        },
        {
            "cell_type": "code",
            "execution_count": null,
            "metadata": {},
            "outputs": [],
            "source": [
                "# Save the vector store\n",
                "if 'vector_store' in locals() and vector_store:\n",
                "    vector_store.save_local(\"faiss_index\")\n",
                "    print(\"VectorStore saved to 'faiss_index' folder\")\n",
                "\n",
                "# Load the vector store\n",
                "try:\n",
                "    embeddings = GoogleGenerativeAIEmbeddings(model=\"models/embedding-001\")\n",
                "    loaded_vectorstore = FAISS.load_local(\"faiss_index\", embeddings)\n",
                "    vector_store = loaded_vectorstore\n",
                "    print(\"VectorStore loaded successfully\")\n",
                "except Exception as e:\n",
                "    print(f\"Error loading VectorStore: {e}\")"
            ]
        }
    ],
    "metadata": {
        "kernelspec": {
            "display_name": "Python 3 (ipykernel)",
            "language": "python",
            "name": "python3"
        },
        "language_info": {
            "codemirror_mode": {
                "name": "ipython",
                "version": 3
            },
            "file_extension": ".py",
            "mimetype": "text/x-python",
            "name": "python",
            "nbconvert_exporter": "python",
            "pygments_lexer": "ipython3",
            "version": "3.9.0"
        }
    },
    "nbformat": 4,
    "nbformat_minor": 4
}
