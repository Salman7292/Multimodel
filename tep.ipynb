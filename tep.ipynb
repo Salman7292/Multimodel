{
    "cells": [
        {
            "cell_type": "markdown",
            "metadata": {},
            "source": [
                "# PDF Question Answering System with LangChain and Gemini"
            ]
        },
        {
            "cell_type": "markdown",
            "metadata": {},
            "source": [
                "## 1. Install Required Packages"
            ]
        },
        {
            "cell_type": "code",
            "execution_count": null,
            "metadata": {},
            "outputs": [],
            "source": [
                "!pip install -q langchain-google-genai langchain pypdf faiss-cpu python-dotenv"
            ]
        },
        {
            "cell_type": "markdown",
            "metadata": {},
            "source": [
                "## 2. Import Libraries"
            ]
        },
        {
            "cell_type": "code",
            "execution_count": null,
            "metadata": {},
            "outputs": [],
            "source": [
                "from langchain_google_genai import GoogleGenerativeAIEmbeddings, ChatGoogleGenerativeAI\n",
                "from langchain_community.document_loaders import PyPDFLoader\n",
                "from langchain_community.vectorstores import FAISS\n",
                "from langchain_text_splitters import RecursiveCharacterTextSplitter\n",
                "from langchain.chains import RetrievalQA\n",
                "from langchain_core.prompts import PromptTemplate\n",
                "from IPython.display import display, Markdown\n",
                "import os\n",
                "import tempfile\n",
                "import time\n",
                "from dotenv import load_dotenv"
            ]
        },
        {
            "cell_type": "markdown",
            "metadata": {},
            "source": [
                "## 3. Load Environment Variables"
            ]
        },
        {
            "cell_type": "code",
            "execution_count": null,
            "metadata": {},
            "outputs": [],
            "source": [
                "load_dotenv()\n",
                "GOOGLE_API_KEY = os.getenv('GOOGLE_API_KEY')\n",
                "if not GOOGLE_API_KEY:\n",
                "    raise ValueError(\"Please set GOOGLE_API_KEY in your .env file\")"
            ]
        },
        {
            "cell_type": "markdown",
            "metadata": {},
            "source": [
                "## 4. Initialize Models"
            ]
        },
        {
            "cell_type": "code",
            "execution_count": null,
            "metadata": {},
            "outputs": [],
            "source": [
                "# Initialize embedding model\n",
                "embeddings = GoogleGenerativeAIEmbeddings(\n",
                "    model=\"models/embedding-001\",\n",
                "    google_api_key=GOOGLE_API_KEY\n",
                ")\n",
                "\n",
                "# Initialize LLM\n",
                "llm = ChatGoogleGenerativeAI(\n",
                "    model=\"gemini-pro\",\n",
                "    temperature=0,\n",
                "    google_api_key=GOOGLE_API_KEY\n",
                ")\n",
                "\n",
                "# Text splitter configuration\n",
                "text_splitter = RecursiveCharacterTextSplitter(\n",
                "    chunk_size=1000,\n",
                "    chunk_overlap=200\n",
                ")"
            ]
        },
        {
            "cell_type": "markdown",
            "metadata": {},
            "source": [
                "## 5. Define Processing Functions"
            ]
        },
        {
            "cell_type": "code",
            "execution_count": null,
            "metadata": {},
            "outputs": [],
            "source": [
                "def process_pdf(file_path):\n",
                "    \"\"\"Process PDF and create vector store\"\"\"\n",
                "    try:\n",
                "        # Load PDF\n",
                "        loader = PyPDFLoader(file_path)\n",
                "        pages = loader.load_and_split()\n",
                "        \n",
                "        # Split text\n",
                "        chunks = text_splitter.split_documents(pages)\n",
                "        \n",
                "        # Create vector store\n",
                "        vectorstore = FAISS.from_documents(chunks, embeddings)\n",
                "        return vectorstore\n",
                "    \n",
                "    except Exception as e:\n",
                "        print(f\"Error processing PDF: {e}\")\n",
                "        return None\n",
                "\n",
                "def ask_question(vectorstore, question):\n",
                "    \"\"\"Get answer to question from vector store\"\"\"\n",
                "    try:\n",
                "        # Custom prompt\n",
                "        prompt_template = \"\"\"\n",
                "        Answer the question based on the context below. If you don't know the answer, \n",
                "        just say that you don't know, don't try to make up an answer.\n",
                "\n",
                "        Context: {context}\n",
                "\n",
                "        Question: {question}\n",
                "        Answer:\"\"\"\n",
                "        \n",
                "        PROMPT = PromptTemplate(\n",
                "            template=prompt_template, \n",
                "            input_variables=[\"context\", \"question\"]\n",
                "        )\n",
                "        \n",
                "        # Create QA chain\n",
                "        qa_chain = RetrievalQA.from_chain_type(\n",
                "            llm=llm,\n",
                "            chain_type=\"stuff\",\n",
                "            retriever=vectorstore.as_retriever(),\n",
                "            chain_type_kwargs={\"prompt\": PROMPT}\n",
                "        )\n",
                "        \n",
                "        result = qa_chain.invoke({\"query\": question})\n",
                "        return result['result']\n",
                "    \n",
                "    except Exception as e:\n",
                "        return f\"Error answering question: {e}\""
            ]
        },
        {
            "cell_type": "markdown",
            "metadata": {},
            "source": [
                "## 6. Upload and Process PDF"
            ]
        },
        {
            "cell_type": "code",
            "execution_count": null,
            "metadata": {},
            "outputs": [],
            "source": [
                "from ipywidgets import FileUpload\n",
                "from IPython.display import clear_output\n",
                "\n",
                "upload = FileUpload(accept='.pdf', multiple=False)\n",
                "display(upload)\n",
                "\n",
                "# After uploading file\n",
                "if upload.value:\n",
                "    file_name = next(iter(upload.value))\n",
                "    with tempfile.NamedTemporaryFile(delete=False, suffix='.pdf') as tmp:\n",
                "        tmp.write(upload.value[file_name]['content'])\n",
                "        tmp_path = tmp.name\n",
                "    \n",
                "    clear_output()\n",
                "    print(f\"Processing {file_name}...\")\n",
                "    \n",
                "    # Process PDF\n",
                "    vectorstore = process_pdf(tmp_path)\n",
                "    \n",
                "    if vectorstore:\n",
                "        print(f\"Successfully processed {file_name}\")\n",
                "        os.unlink(tmp_path)  # Clean up temp file\n",
                "    else:\n",
                "        print(f\"Failed to process {file_name}\")"
            ]
        },
        {
            "cell_type": "markdown",
            "metadata": {},
            "source": [
                "## 7. Interactive Question Answering"
            ]
        },
        {
            "cell_type": "code",
            "execution_count": null,
            "metadata": {},
            "outputs": [],
            "source": [
                "from ipywidgets import widgets\n",
                "\n",
                "if 'vectorstore' in locals() and vectorstore:\n",
                "    question_input = widgets.Text(\n",
                "        placeholder='Enter your question about the PDF',\n",
                "        description='Question:',\n",
                "        layout=widgets.Layout(width='80%')\n",
                "    )\n",
                "    \n",
                "    display(question_input)\n",
                "    \n",
                "    def on_ask_clicked(b):\n",
                "        question = question_input.value\n",
                "        if question:\n",
                "            print(\"Thinking...\")\n",
                "            answer = ask_question(vectorstore, question)\n",
                "            display(Markdown(f\"**Question:** {question}\"))\n",
                "            display(Markdown(f\"**Answer:** {answer}\"))\n",
                "    \n",
                "    ask_button = widgets.Button(description=\"Ask\")\n",
                "    ask_button.on_click(on_ask_clicked)\n",
                "    display(ask_button)\n",
                "else:\n",
                "    print(\"Please upload and process a PDF first\")"
            ]
        },
        {
            "cell_type": "markdown",
            "metadata": {},
            "source": [
                "## 8. Save/Load VectorStore (Optional)"
            ]
        },
        {
            "cell_type": "code",
            "execution_count": null,
            "metadata": {},
            "outputs": [],
            "source": [
                "# Save\n",
                "if 'vectorstore' in locals() and vectorstore:\n",
                "    vectorstore.save_local(\"pdf_vectorstore\")\n",
                "    print(\"VectorStore saved to 'pdf_vectorstore' folder\")\n",
                "\n",
                "# Load\n",
                "try:\n",
                "    loaded_vectorstore = FAISS.load_local(\n",
                "        \"pdf_vectorstore\", \n",
                "        embeddings,\n",
                "        allow_dangerous_deserialization=True\n",
                "    )\n",
                "    vectorstore = loaded_vectorstore\n",
                "    print(\"VectorStore loaded successfully\")\n",
                "except Exception as e:\n",
                "    print(f\"Error loading VectorStore: {e}\")"
            ]
        }
    ],
    "metadata": {
        "kernelspec": {
            "display_name": "Python 3 (ipykernel)",
            "language": "python",
            "name": "python3"
        },
        "language_info": {
            "codemirror_mode": {
                "name": "ipython",
                "version": 3
            },
            "file_extension": ".py",
            "mimetype": "text/x-python",
            "name": "python",
            "nbconvert_exporter": "python",
            "pygments_lexer": "ipython3",
            "version": "3.9.0"
        }
    },
    "nbformat": 4,
    "nbformat_minor": 4
}

